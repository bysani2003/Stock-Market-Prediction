{
  "cells": [
    {
      "attachments": {},
      "cell_type": "markdown",
      "metadata": {
        "id": "btibq2Qgurwe"
      },
      "source": [
        "# Sujith Bysani \n",
        "##20MID0180"
      ]
    },
    {
      "attachments": {},
      "cell_type": "markdown",
      "metadata": {
        "id": "s9bpj5o7wNEH"
      },
      "source": [
        "#AI Assignment 1\n",
        "###Task - 1\n",
        "Create a pandas dataframe (DataFrame name as 'df') with numpy random values (4 features and 4 observation)\n",
        "###Task - 2\n",
        "Rename the task - 1 'df' dataframe column names to 'Random value 1', 'Random value 2', 'Random value 3' & 'Random value 4'\n",
        "###Task - 3\n",
        "Find the descriptive statistics of the 'df' dataframe.\n",
        "###Task - 4\n",
        "Check for the null values in 'df' and find the data type of the columns.\n",
        "###Task - 5\n",
        "Display the 'Random value 2' & 'Random value 3' columns with location method and index location method."
      ]
    },
    {
      "attachments": {},
      "cell_type": "markdown",
      "metadata": {
        "id": "SGOHb0sAvJnL"
      },
      "source": [
        "TASK 1"
      ]
    },
    {
      "cell_type": "code",
      "execution_count": 1,
      "metadata": {
        "id": "4Y5saX2QutzA"
      },
      "outputs": [],
      "source": [
        "import pandas as pd\n",
        "import numpy as np"
      ]
    },
    {
      "cell_type": "code",
      "execution_count": 2,
      "metadata": {
        "id": "9Dodd7Jpu7Pk"
      },
      "outputs": [],
      "source": [
        "# Create random values using NumPy\n",
        "np.random.seed(42)  # Set a seed for reproducibility\n",
        "random_values = np.random.rand(4, 4)"
      ]
    },
    {
      "cell_type": "code",
      "execution_count": 3,
      "metadata": {
        "id": "kAr6MWiPu-1G"
      },
      "outputs": [],
      "source": [
        "# Create DataFrame\n",
        "df = pd.DataFrame(random_values, columns=['Feature 1', 'Feature 2', 'Feature 3', 'Feature 4'])"
      ]
    },
    {
      "cell_type": "code",
      "execution_count": 4,
      "metadata": {
        "colab": {
          "base_uri": "https://localhost:8080/"
        },
        "id": "Y9bcdXFWvCxF",
        "outputId": "77c8449f-8889-40d6-888f-6e080dbd73bc"
      },
      "outputs": [
        {
          "name": "stdout",
          "output_type": "stream",
          "text": [
            "   Feature 1  Feature 2  Feature 3  Feature 4\n",
            "0   0.374540   0.950714   0.731994   0.598658\n",
            "1   0.156019   0.155995   0.058084   0.866176\n",
            "2   0.601115   0.708073   0.020584   0.969910\n",
            "3   0.832443   0.212339   0.181825   0.183405\n"
          ]
        }
      ],
      "source": [
        "# Print the DataFrame\n",
        "print(df)"
      ]
    },
    {
      "attachments": {},
      "cell_type": "markdown",
      "metadata": {
        "id": "6CmeIxQpvNKy"
      },
      "source": [
        "TASK 2"
      ]
    },
    {
      "cell_type": "code",
      "execution_count": 5,
      "metadata": {
        "id": "LgSHV0x4vOsI"
      },
      "outputs": [],
      "source": [
        "# Rename the column names\n",
        "new_column_names = {\n",
        "    'Feature 1': 'Random value 1',\n",
        "    'Feature 2': 'Random value 2',\n",
        "    'Feature 3': 'Random value 3',\n",
        "    'Feature 4': 'Random value 4'\n",
        "}\n",
        "df = df.rename(columns=new_column_names)"
      ]
    },
    {
      "cell_type": "code",
      "execution_count": 6,
      "metadata": {
        "colab": {
          "base_uri": "https://localhost:8080/"
        },
        "id": "sxvN5pH-vZg6",
        "outputId": "db41f966-75b5-44be-be0c-abeb9e0aec86"
      },
      "outputs": [
        {
          "name": "stdout",
          "output_type": "stream",
          "text": [
            "   Random value 1  Random value 2  Random value 3  Random value 4\n",
            "0        0.374540        0.950714        0.731994        0.598658\n",
            "1        0.156019        0.155995        0.058084        0.866176\n",
            "2        0.601115        0.708073        0.020584        0.969910\n",
            "3        0.832443        0.212339        0.181825        0.183405\n"
          ]
        }
      ],
      "source": [
        "# Print the DataFrame with updated column names\n",
        "print(df)"
      ]
    },
    {
      "attachments": {},
      "cell_type": "markdown",
      "metadata": {
        "id": "fgHDFD3UvdAT"
      },
      "source": [
        "TASK 3"
      ]
    },
    {
      "cell_type": "code",
      "execution_count": 7,
      "metadata": {
        "colab": {
          "base_uri": "https://localhost:8080/"
        },
        "id": "KgPsHGpNvb9f",
        "outputId": "f6cbc94a-624e-479f-923d-408ad37ab2b9"
      },
      "outputs": [
        {
          "name": "stdout",
          "output_type": "stream",
          "text": [
            "       Random value 1  Random value 2  Random value 3  Random value 4\n",
            "count        4.000000        4.000000        4.000000        4.000000\n",
            "mean         0.491029        0.506780        0.248122        0.654537\n",
            "std          0.291252        0.386153        0.329856        0.350875\n",
            "min          0.156019        0.155995        0.020584        0.183405\n",
            "25%          0.319910        0.198253        0.048709        0.494845\n",
            "50%          0.487828        0.460206        0.119954        0.732417\n",
            "75%          0.658947        0.768733        0.319367        0.892110\n",
            "max          0.832443        0.950714        0.731994        0.969910\n"
          ]
        }
      ],
      "source": [
        "# Get descriptive statistics\n",
        "statistics = df.describe()\n",
        "\n",
        "# Print the descriptive statistics\n",
        "print(statistics)"
      ]
    },
    {
      "attachments": {},
      "cell_type": "markdown",
      "metadata": {
        "id": "9c6x8iFTvnf7"
      },
      "source": [
        "TASK 4"
      ]
    },
    {
      "cell_type": "code",
      "execution_count": 8,
      "metadata": {
        "id": "7QOu_QPJvmW_"
      },
      "outputs": [],
      "source": [
        "# Check for null values\n",
        "null_values = df.isnull().sum()\n",
        "\n",
        "# Find data types of columns\n",
        "column_types = df.dtypes"
      ]
    },
    {
      "cell_type": "code",
      "execution_count": 9,
      "metadata": {
        "colab": {
          "base_uri": "https://localhost:8080/"
        },
        "id": "LQerhMXDvyAx",
        "outputId": "165c5176-6849-48e8-c3ad-35e72beea814"
      },
      "outputs": [
        {
          "name": "stdout",
          "output_type": "stream",
          "text": [
            "Null Values:\n",
            "Random value 1    0\n",
            "Random value 2    0\n",
            "Random value 3    0\n",
            "Random value 4    0\n",
            "dtype: int64\n",
            "\n",
            "Column Types:\n",
            "Random value 1    float64\n",
            "Random value 2    float64\n",
            "Random value 3    float64\n",
            "Random value 4    float64\n",
            "dtype: object\n"
          ]
        }
      ],
      "source": [
        "# Print null values and column types\n",
        "print(\"Null Values:\")\n",
        "print(null_values)\n",
        "print(\"\\nColumn Types:\")\n",
        "print(column_types)"
      ]
    },
    {
      "attachments": {},
      "cell_type": "markdown",
      "metadata": {
        "id": "peBB_mAxv1jr"
      },
      "source": [
        "TASK 5"
      ]
    },
    {
      "cell_type": "code",
      "execution_count": 10,
      "metadata": {
        "colab": {
          "base_uri": "https://localhost:8080/"
        },
        "id": "qF0Ue6k4v0aY",
        "outputId": "72e606b7-dcc6-4665-9e54-7975cea5624d"
      },
      "outputs": [
        {
          "name": "stdout",
          "output_type": "stream",
          "text": [
            "Using location method:\n",
            "   Random value 2  Random value 3\n",
            "0        0.950714        0.731994\n",
            "1        0.155995        0.058084\n",
            "2        0.708073        0.020584\n",
            "3        0.212339        0.181825\n"
          ]
        }
      ],
      "source": [
        "# Display columns using location method\n",
        "columns_loc = df.loc[:, ['Random value 2', 'Random value 3']]\n",
        "print(\"Using location method:\")\n",
        "print(columns_loc)"
      ]
    },
    {
      "cell_type": "code",
      "execution_count": 11,
      "metadata": {
        "colab": {
          "base_uri": "https://localhost:8080/"
        },
        "id": "AHlEcXefwBt2",
        "outputId": "44cc775a-cf2d-4bc0-a9ca-d4198ed83ccf"
      },
      "outputs": [
        {
          "name": "stdout",
          "output_type": "stream",
          "text": [
            "\n",
            "Using index location method:\n",
            "   Random value 2  Random value 3\n",
            "0        0.950714        0.731994\n",
            "1        0.155995        0.058084\n",
            "2        0.708073        0.020584\n",
            "3        0.212339        0.181825\n"
          ]
        }
      ],
      "source": [
        "# Display columns using index location method\n",
        "columns_iloc = df.iloc[:, [1, 2]]\n",
        "print(\"\\nUsing index location method:\")\n",
        "print(columns_iloc)"
      ]
    },
    {
      "cell_type": "code",
      "execution_count": null,
      "metadata": {
        "id": "Vi8kY7CIwFjY"
      },
      "outputs": [],
      "source": []
    }
  ],
  "metadata": {
    "colab": {
      "provenance": []
    },
    "kernelspec": {
      "display_name": "Python 3",
      "name": "python3"
    },
    "language_info": {
      "name": "python"
    }
  },
  "nbformat": 4,
  "nbformat_minor": 0
}
